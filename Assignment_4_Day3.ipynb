{
  "nbformat": 4,
  "nbformat_minor": 0,
  "metadata": {
    "colab": {
      "name": "Assignment 4-Day3.ipynb",
      "provenance": [],
      "collapsed_sections": []
    },
    "kernelspec": {
      "name": "python3",
      "display_name": "Python 3"
    },
    "language_info": {
      "name": "python"
    }
  },
  "cells": [
    {
      "cell_type": "code",
      "metadata": {
        "colab": {
          "base_uri": "https://localhost:8080/"
        },
        "id": "LLZDWlPIcFO4",
        "outputId": "d2b2e95d-d83b-4e04-bb1f-3150247dd492"
      },
      "source": [
        "x = input('gift_presented_to: ')\n",
        "val = [int(i) for i in x.split()]\n",
        "print(val)\n",
        "\n",
        "gift_received_from = [2, 1, 4, 5, 3]\n",
        "\n",
        "for i in range(len(val)):\n",
        "  print(\"Person P\" + str(val[i])  + \" has received gift from Person P\" + str(gift_received_from[i]))"
      ],
      "execution_count": 2,
      "outputs": [
        {
          "output_type": "stream",
          "text": [
            "gift_presented_to: 3\n",
            "[3]\n",
            "Person P3 has received gift from Person P2\n"
          ],
          "name": "stdout"
        }
      ]
    }
  ]
}